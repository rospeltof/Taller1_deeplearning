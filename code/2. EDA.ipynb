{
 "cells": [
  {
   "cell_type": "code",
   "execution_count": 1,
   "id": "8e88d02e-ea86-4b38-8992-c0346c1f47cb",
   "metadata": {
    "tags": []
   },
   "outputs": [],
   "source": [
    "import os \n",
    "import pandas as pd\n"
   ]
  },
  {
   "cell_type": "code",
   "execution_count": 7,
   "id": "585fda0d-2017-4e89-924e-50bc60ea33bd",
   "metadata": {
    "tags": []
   },
   "outputs": [],
   "source": [
    "data_path = os.path.join('..', 'data', 'single_station_data.csv')\n",
    "data = pd.read_csv(data_path, parse_dates= ['date'])"
   ]
  },
  {
   "cell_type": "code",
   "execution_count": 8,
   "id": "2c015d52-1937-4d3d-9c56-165f8da335c0",
   "metadata": {
    "tags": []
   },
   "outputs": [
    {
     "name": "stdout",
     "output_type": "stream",
     "text": [
      "(87698, 12)\n"
     ]
    },
    {
     "data": {
      "text/html": [
       "<div>\n",
       "<style scoped>\n",
       "    .dataframe tbody tr th:only-of-type {\n",
       "        vertical-align: middle;\n",
       "    }\n",
       "\n",
       "    .dataframe tbody tr th {\n",
       "        vertical-align: top;\n",
       "    }\n",
       "\n",
       "    .dataframe thead th {\n",
       "        text-align: right;\n",
       "    }\n",
       "</style>\n",
       "<table border=\"1\" class=\"dataframe\">\n",
       "  <thead>\n",
       "    <tr style=\"text-align: right;\">\n",
       "      <th></th>\n",
       "      <th>number_sta</th>\n",
       "      <th>lat</th>\n",
       "      <th>lon</th>\n",
       "      <th>height_sta</th>\n",
       "      <th>date</th>\n",
       "      <th>dd</th>\n",
       "      <th>ff</th>\n",
       "      <th>precip</th>\n",
       "      <th>hu</th>\n",
       "      <th>td</th>\n",
       "      <th>t</th>\n",
       "      <th>psl</th>\n",
       "    </tr>\n",
       "  </thead>\n",
       "  <tbody>\n",
       "    <tr>\n",
       "      <th>0</th>\n",
       "      <td>1034004</td>\n",
       "      <td>45.77</td>\n",
       "      <td>5.69</td>\n",
       "      <td>330.0</td>\n",
       "      <td>2016-01-01 00:00:00</td>\n",
       "      <td>0.0</td>\n",
       "      <td>0.0</td>\n",
       "      <td>0.0</td>\n",
       "      <td>100.0</td>\n",
       "      <td>279.15</td>\n",
       "      <td>279.15</td>\n",
       "      <td>NaN</td>\n",
       "    </tr>\n",
       "    <tr>\n",
       "      <th>1</th>\n",
       "      <td>1034004</td>\n",
       "      <td>45.77</td>\n",
       "      <td>5.69</td>\n",
       "      <td>330.0</td>\n",
       "      <td>2016-01-01 00:06:00</td>\n",
       "      <td>0.0</td>\n",
       "      <td>0.0</td>\n",
       "      <td>0.0</td>\n",
       "      <td>100.0</td>\n",
       "      <td>279.05</td>\n",
       "      <td>279.05</td>\n",
       "      <td>NaN</td>\n",
       "    </tr>\n",
       "    <tr>\n",
       "      <th>2</th>\n",
       "      <td>1034004</td>\n",
       "      <td>45.77</td>\n",
       "      <td>5.69</td>\n",
       "      <td>330.0</td>\n",
       "      <td>2016-01-01 00:12:00</td>\n",
       "      <td>0.0</td>\n",
       "      <td>0.0</td>\n",
       "      <td>0.0</td>\n",
       "      <td>100.0</td>\n",
       "      <td>278.85</td>\n",
       "      <td>278.85</td>\n",
       "      <td>NaN</td>\n",
       "    </tr>\n",
       "    <tr>\n",
       "      <th>3</th>\n",
       "      <td>1034004</td>\n",
       "      <td>45.77</td>\n",
       "      <td>5.69</td>\n",
       "      <td>330.0</td>\n",
       "      <td>2016-01-01 00:18:00</td>\n",
       "      <td>0.0</td>\n",
       "      <td>0.0</td>\n",
       "      <td>0.0</td>\n",
       "      <td>100.0</td>\n",
       "      <td>278.85</td>\n",
       "      <td>278.85</td>\n",
       "      <td>NaN</td>\n",
       "    </tr>\n",
       "    <tr>\n",
       "      <th>4</th>\n",
       "      <td>1034004</td>\n",
       "      <td>45.77</td>\n",
       "      <td>5.69</td>\n",
       "      <td>330.0</td>\n",
       "      <td>2016-01-01 00:24:00</td>\n",
       "      <td>0.0</td>\n",
       "      <td>0.0</td>\n",
       "      <td>0.0</td>\n",
       "      <td>100.0</td>\n",
       "      <td>278.85</td>\n",
       "      <td>278.85</td>\n",
       "      <td>NaN</td>\n",
       "    </tr>\n",
       "  </tbody>\n",
       "</table>\n",
       "</div>"
      ],
      "text/plain": [
       "   number_sta    lat   lon  height_sta                date   dd   ff  precip  \\\n",
       "0     1034004  45.77  5.69       330.0 2016-01-01 00:00:00  0.0  0.0     0.0   \n",
       "1     1034004  45.77  5.69       330.0 2016-01-01 00:06:00  0.0  0.0     0.0   \n",
       "2     1034004  45.77  5.69       330.0 2016-01-01 00:12:00  0.0  0.0     0.0   \n",
       "3     1034004  45.77  5.69       330.0 2016-01-01 00:18:00  0.0  0.0     0.0   \n",
       "4     1034004  45.77  5.69       330.0 2016-01-01 00:24:00  0.0  0.0     0.0   \n",
       "\n",
       "      hu      td       t  psl  \n",
       "0  100.0  279.15  279.15  NaN  \n",
       "1  100.0  279.05  279.05  NaN  \n",
       "2  100.0  278.85  278.85  NaN  \n",
       "3  100.0  278.85  278.85  NaN  \n",
       "4  100.0  278.85  278.85  NaN  "
      ]
     },
     "execution_count": 8,
     "metadata": {},
     "output_type": "execute_result"
    }
   ],
   "source": [
    "print(data.shape)\n",
    "data.head()"
   ]
  },
  {
   "cell_type": "markdown",
   "id": "d80cf54d",
   "metadata": {},
   "source": [
    "Comentario Pablo\n",
    "Comentario 2"
   ]
  },
  {
   "cell_type": "code",
   "execution_count": null,
   "id": "8e805394-4546-4aa4-97fc-6f177afba3cf",
   "metadata": {},
   "outputs": [],
   "source": []
  }
 ],
 "metadata": {
  "kernelspec": {
   "display_name": "Python 3 (ipykernel)",
   "language": "python",
   "name": "python3"
  },
  "language_info": {
   "codemirror_mode": {
    "name": "ipython",
    "version": 3
   },
   "file_extension": ".py",
   "mimetype": "text/x-python",
   "name": "python",
   "nbconvert_exporter": "python",
   "pygments_lexer": "ipython3",
   "version": "3.11.9"
  }
 },
 "nbformat": 4,
 "nbformat_minor": 5
}
