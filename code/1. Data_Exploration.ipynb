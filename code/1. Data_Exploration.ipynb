{
 "cells": [
  {
   "cell_type": "code",
   "execution_count": 1,
   "id": "aa5982ca-6703-4cec-bc40-4ae95c274f23",
   "metadata": {
    "tags": []
   },
   "outputs": [],
   "source": [
    "#librerias\n",
    "import pandas as pd\n",
    "import os"
   ]
  },
  {
   "cell_type": "code",
   "execution_count": 14,
   "id": "9bcdf829-7c11-4506-8398-5a42ac0173ec",
   "metadata": {
    "tags": []
   },
   "outputs": [],
   "source": [
    "#Usar os para las rutas y permitir compatibilidad con todos los SO \n",
    "#raw_data_path = os.path.join('..', 'data', 'SE2016.csv')\n",
    "#raw_data_df = pd.read_csv(raw_data_path, header= 0)"
   ]
  },
  {
   "cell_type": "code",
   "execution_count": 16,
   "id": "2bc6f766-8111-4a46-91be-ff565bff08da",
   "metadata": {
    "tags": []
   },
   "outputs": [
    {
     "name": "stdout",
     "output_type": "stream",
     "text": [
      "(42368865, 12)\n"
     ]
    },
    {
     "data": {
      "text/html": [
       "<div>\n",
       "<style scoped>\n",
       "    .dataframe tbody tr th:only-of-type {\n",
       "        vertical-align: middle;\n",
       "    }\n",
       "\n",
       "    .dataframe tbody tr th {\n",
       "        vertical-align: top;\n",
       "    }\n",
       "\n",
       "    .dataframe thead th {\n",
       "        text-align: right;\n",
       "    }\n",
       "</style>\n",
       "<table border=\"1\" class=\"dataframe\">\n",
       "  <thead>\n",
       "    <tr style=\"text-align: right;\">\n",
       "      <th></th>\n",
       "      <th>number_sta</th>\n",
       "      <th>lat</th>\n",
       "      <th>lon</th>\n",
       "      <th>height_sta</th>\n",
       "      <th>date</th>\n",
       "      <th>dd</th>\n",
       "      <th>ff</th>\n",
       "      <th>precip</th>\n",
       "      <th>hu</th>\n",
       "      <th>td</th>\n",
       "      <th>t</th>\n",
       "      <th>psl</th>\n",
       "    </tr>\n",
       "  </thead>\n",
       "  <tbody>\n",
       "    <tr>\n",
       "      <th>0</th>\n",
       "      <td>1027003</td>\n",
       "      <td>45.83</td>\n",
       "      <td>5.11</td>\n",
       "      <td>196.0</td>\n",
       "      <td>20160101 00:00</td>\n",
       "      <td>NaN</td>\n",
       "      <td>NaN</td>\n",
       "      <td>NaN</td>\n",
       "      <td>98.0</td>\n",
       "      <td>278.75</td>\n",
       "      <td>279.05</td>\n",
       "      <td>NaN</td>\n",
       "    </tr>\n",
       "    <tr>\n",
       "      <th>1</th>\n",
       "      <td>1033002</td>\n",
       "      <td>46.09</td>\n",
       "      <td>5.81</td>\n",
       "      <td>350.0</td>\n",
       "      <td>20160101 00:00</td>\n",
       "      <td>0.0</td>\n",
       "      <td>0.0</td>\n",
       "      <td>0.0</td>\n",
       "      <td>99.0</td>\n",
       "      <td>278.25</td>\n",
       "      <td>278.35</td>\n",
       "      <td>NaN</td>\n",
       "    </tr>\n",
       "    <tr>\n",
       "      <th>2</th>\n",
       "      <td>1034004</td>\n",
       "      <td>45.77</td>\n",
       "      <td>5.69</td>\n",
       "      <td>330.0</td>\n",
       "      <td>20160101 00:00</td>\n",
       "      <td>0.0</td>\n",
       "      <td>0.0</td>\n",
       "      <td>0.0</td>\n",
       "      <td>100.0</td>\n",
       "      <td>279.15</td>\n",
       "      <td>279.15</td>\n",
       "      <td>NaN</td>\n",
       "    </tr>\n",
       "    <tr>\n",
       "      <th>3</th>\n",
       "      <td>1072001</td>\n",
       "      <td>46.20</td>\n",
       "      <td>5.29</td>\n",
       "      <td>260.0</td>\n",
       "      <td>20160101 00:00</td>\n",
       "      <td>NaN</td>\n",
       "      <td>NaN</td>\n",
       "      <td>0.0</td>\n",
       "      <td>NaN</td>\n",
       "      <td>NaN</td>\n",
       "      <td>276.55</td>\n",
       "      <td>NaN</td>\n",
       "    </tr>\n",
       "    <tr>\n",
       "      <th>4</th>\n",
       "      <td>1089001</td>\n",
       "      <td>45.98</td>\n",
       "      <td>5.33</td>\n",
       "      <td>252.0</td>\n",
       "      <td>20160101 00:00</td>\n",
       "      <td>0.0</td>\n",
       "      <td>0.0</td>\n",
       "      <td>0.0</td>\n",
       "      <td>95.0</td>\n",
       "      <td>278.85</td>\n",
       "      <td>279.55</td>\n",
       "      <td>102720.0</td>\n",
       "    </tr>\n",
       "  </tbody>\n",
       "</table>\n",
       "</div>"
      ],
      "text/plain": [
       "   number_sta    lat   lon  height_sta            date   dd   ff  precip  \\\n",
       "0     1027003  45.83  5.11       196.0  20160101 00:00  NaN  NaN     NaN   \n",
       "1     1033002  46.09  5.81       350.0  20160101 00:00  0.0  0.0     0.0   \n",
       "2     1034004  45.77  5.69       330.0  20160101 00:00  0.0  0.0     0.0   \n",
       "3     1072001  46.20  5.29       260.0  20160101 00:00  NaN  NaN     0.0   \n",
       "4     1089001  45.98  5.33       252.0  20160101 00:00  0.0  0.0     0.0   \n",
       "\n",
       "      hu      td       t       psl  \n",
       "0   98.0  278.75  279.05       NaN  \n",
       "1   99.0  278.25  278.35       NaN  \n",
       "2  100.0  279.15  279.15       NaN  \n",
       "3    NaN     NaN  276.55       NaN  \n",
       "4   95.0  278.85  279.55  102720.0  "
      ]
     },
     "execution_count": 16,
     "metadata": {},
     "output_type": "execute_result"
    }
   ],
   "source": [
    "print(raw_data_df.shape)\n",
    "raw_data_df.head()"
   ]
  },
  {
   "cell_type": "markdown",
   "id": "6d357ee4-f540-4ffe-b1c7-49f198f89468",
   "metadata": {},
   "source": [
    "#### Escogamos una estación aleatoria: En este caso la 1034004 "
   ]
  },
  {
   "cell_type": "code",
   "execution_count": 19,
   "id": "25b02ccd-be10-4bfb-b232-7ce0bf8b0bd9",
   "metadata": {
    "tags": []
   },
   "outputs": [
    {
     "name": "stdout",
     "output_type": "stream",
     "text": [
      "(87698, 12)\n"
     ]
    },
    {
     "data": {
      "text/html": [
       "<div>\n",
       "<style scoped>\n",
       "    .dataframe tbody tr th:only-of-type {\n",
       "        vertical-align: middle;\n",
       "    }\n",
       "\n",
       "    .dataframe tbody tr th {\n",
       "        vertical-align: top;\n",
       "    }\n",
       "\n",
       "    .dataframe thead th {\n",
       "        text-align: right;\n",
       "    }\n",
       "</style>\n",
       "<table border=\"1\" class=\"dataframe\">\n",
       "  <thead>\n",
       "    <tr style=\"text-align: right;\">\n",
       "      <th></th>\n",
       "      <th>number_sta</th>\n",
       "      <th>lat</th>\n",
       "      <th>lon</th>\n",
       "      <th>height_sta</th>\n",
       "      <th>date</th>\n",
       "      <th>dd</th>\n",
       "      <th>ff</th>\n",
       "      <th>precip</th>\n",
       "      <th>hu</th>\n",
       "      <th>td</th>\n",
       "      <th>t</th>\n",
       "      <th>psl</th>\n",
       "    </tr>\n",
       "  </thead>\n",
       "  <tbody>\n",
       "    <tr>\n",
       "      <th>2</th>\n",
       "      <td>1034004</td>\n",
       "      <td>45.77</td>\n",
       "      <td>5.69</td>\n",
       "      <td>330.0</td>\n",
       "      <td>20160101 00:00</td>\n",
       "      <td>0.0</td>\n",
       "      <td>0.0</td>\n",
       "      <td>0.0</td>\n",
       "      <td>100.0</td>\n",
       "      <td>279.15</td>\n",
       "      <td>279.15</td>\n",
       "      <td>NaN</td>\n",
       "    </tr>\n",
       "    <tr>\n",
       "      <th>485</th>\n",
       "      <td>1034004</td>\n",
       "      <td>45.77</td>\n",
       "      <td>5.69</td>\n",
       "      <td>330.0</td>\n",
       "      <td>20160101 00:06</td>\n",
       "      <td>0.0</td>\n",
       "      <td>0.0</td>\n",
       "      <td>0.0</td>\n",
       "      <td>100.0</td>\n",
       "      <td>279.05</td>\n",
       "      <td>279.05</td>\n",
       "      <td>NaN</td>\n",
       "    </tr>\n",
       "    <tr>\n",
       "      <th>968</th>\n",
       "      <td>1034004</td>\n",
       "      <td>45.77</td>\n",
       "      <td>5.69</td>\n",
       "      <td>330.0</td>\n",
       "      <td>20160101 00:12</td>\n",
       "      <td>0.0</td>\n",
       "      <td>0.0</td>\n",
       "      <td>0.0</td>\n",
       "      <td>100.0</td>\n",
       "      <td>278.85</td>\n",
       "      <td>278.85</td>\n",
       "      <td>NaN</td>\n",
       "    </tr>\n",
       "    <tr>\n",
       "      <th>1452</th>\n",
       "      <td>1034004</td>\n",
       "      <td>45.77</td>\n",
       "      <td>5.69</td>\n",
       "      <td>330.0</td>\n",
       "      <td>20160101 00:18</td>\n",
       "      <td>0.0</td>\n",
       "      <td>0.0</td>\n",
       "      <td>0.0</td>\n",
       "      <td>100.0</td>\n",
       "      <td>278.85</td>\n",
       "      <td>278.85</td>\n",
       "      <td>NaN</td>\n",
       "    </tr>\n",
       "    <tr>\n",
       "      <th>1936</th>\n",
       "      <td>1034004</td>\n",
       "      <td>45.77</td>\n",
       "      <td>5.69</td>\n",
       "      <td>330.0</td>\n",
       "      <td>20160101 00:24</td>\n",
       "      <td>0.0</td>\n",
       "      <td>0.0</td>\n",
       "      <td>0.0</td>\n",
       "      <td>100.0</td>\n",
       "      <td>278.85</td>\n",
       "      <td>278.85</td>\n",
       "      <td>NaN</td>\n",
       "    </tr>\n",
       "  </tbody>\n",
       "</table>\n",
       "</div>"
      ],
      "text/plain": [
       "      number_sta    lat   lon  height_sta            date   dd   ff  precip  \\\n",
       "2        1034004  45.77  5.69       330.0  20160101 00:00  0.0  0.0     0.0   \n",
       "485      1034004  45.77  5.69       330.0  20160101 00:06  0.0  0.0     0.0   \n",
       "968      1034004  45.77  5.69       330.0  20160101 00:12  0.0  0.0     0.0   \n",
       "1452     1034004  45.77  5.69       330.0  20160101 00:18  0.0  0.0     0.0   \n",
       "1936     1034004  45.77  5.69       330.0  20160101 00:24  0.0  0.0     0.0   \n",
       "\n",
       "         hu      td       t  psl  \n",
       "2     100.0  279.15  279.15  NaN  \n",
       "485   100.0  279.05  279.05  NaN  \n",
       "968   100.0  278.85  278.85  NaN  \n",
       "1452  100.0  278.85  278.85  NaN  \n",
       "1936  100.0  278.85  278.85  NaN  "
      ]
     },
     "execution_count": 19,
     "metadata": {},
     "output_type": "execute_result"
    }
   ],
   "source": [
    "station_data_df = raw_data_df[raw_data_df['number_sta'] == 1034004]\n",
    "print(station_data_df.shape)\n",
    "station_data_df.head()"
   ]
  },
  {
   "cell_type": "markdown",
   "id": "5917bddc-1aef-4625-93a5-35d323b36baa",
   "metadata": {},
   "source": [
    "## Crear un dataset con los datos filtrados"
   ]
  },
  {
   "cell_type": "code",
   "execution_count": 20,
   "id": "ccdf2886-949d-4fad-8f4e-c9f0046e2919",
   "metadata": {
    "tags": []
   },
   "outputs": [],
   "source": [
    "raw_dataset_save_path = os.path.join('..', 'data', 'single_station_data.csv')\n",
    "station_data_df.to_csv(raw_dataset_save_path, index= False)"
   ]
  },
  {
   "cell_type": "code",
   "execution_count": null,
   "id": "f63f09be-d28a-4aca-9299-21f0c2a1c177",
   "metadata": {},
   "outputs": [],
   "source": []
  }
 ],
 "metadata": {
  "kernelspec": {
   "display_name": "Python 3 (ipykernel)",
   "language": "python",
   "name": "python3"
  },
  "language_info": {
   "codemirror_mode": {
    "name": "ipython",
    "version": 3
   },
   "file_extension": ".py",
   "mimetype": "text/x-python",
   "name": "python",
   "nbconvert_exporter": "python",
   "pygments_lexer": "ipython3",
   "version": "3.11.5"
  }
 },
 "nbformat": 4,
 "nbformat_minor": 5
}
